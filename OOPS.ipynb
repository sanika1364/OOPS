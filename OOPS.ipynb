{
  "nbformat": 4,
  "nbformat_minor": 0,
  "metadata": {
    "colab": {
      "provenance": []
    },
    "kernelspec": {
      "name": "python3",
      "display_name": "Python 3"
    },
    "language_info": {
      "name": "python"
    }
  },
  "cells": [
    {
      "cell_type": "markdown",
      "source": [
        "OOPS"
      ],
      "metadata": {
        "id": "vGnPNBBlyM6t"
      }
    },
    {
      "cell_type": "markdown",
      "metadata": {
        "id": "3f296d64"
      },
      "source": [
        "Q.1 What is Object-Oriented Programming (OOP)?\n",
        "\n",
        "- Object-Oriented Programming (OOP) is a programming paradigm based on the concept of \"objects\", which can contain data and code that operates on that data. Data is in the form of fields (often known as attributes or properties), and code is in the form of procedures (often known as methods).\n",
        "- The key concepts of OOP include:\n",
        "  \n",
        "  - Classes: Blueprints for creating objects.\n",
        "  - Objects: Instances of classes.\n",
        "  - Encapsulation: Bundling data and methods that operate on the data within a single unit (an object).\n",
        "  - Abstraction: Hiding the complex implementation details and showing only the essential features of an object.\n",
        "  - Inheritance: A mechanism where a new class inherits properties and behaviors from an existing class.\n",
        "  - Polymorphism: The ability of different objects to respond to the same method call in their own way.\n",
        "\n",
        "Q.2 What is a class in OOP ?\n",
        "\n",
        "- In Object-Oriented Programming (OOP), a class is a blueprint or a template for creating objects. It defines the properties (data) and behaviors (methods) that objects of that class will have. Think of it like a cookie cutter: the cookie cutter itself is the class, and the cookies you make with it are the objects. The class defines the shape and design of the cookie, and each cookie is an instance created from that design.\n",
        "\n",
        "Q.3 What is an object in OOP ?\n",
        "\n",
        "- In Object-Oriented Programming (OOP), an object is an instance of a class. It's a concrete entity created from the blueprint defined by the class. Objects have the properties (attributes) and can perform the actions (methods) defined by their class. Using the cookie cutter analogy again, if the class is the cookie cutter, an object is an individual cookie created using that cutter. Each cookie (object) will have the shape and design defined by the cutter (class).\n",
        "\n",
        "Q.4 What is the difference between abstraction and encapsulation ?\n",
        "\n",
        "- Abstraction and encapsulation are two related but distinct concepts in Object-Oriented Programming (OOP):\n",
        "  \n",
        "  - Encapsulation: This is the bundling of data (attributes) and the methods (functions) that operate on that data into a single unit, which is typically an object. It's about keeping related data and behavior together and controlling access to the data from outside the object. Think of it like a protective capsule around the data and methods.\n",
        "  - Abstraction: This is the process of hiding complex implementation details and showing only the essential features of an object to the outside world. It focuses on what an object does rather than how it does it. It's about providing a simplified view of an object, highlighting only the relevant aspects.\n",
        "\n",
        "Q.5  What are dunder methods in Python ?\n",
        "\n",
        "- In Python, \"dunder methods\" are special methods that have double underscores at the beginning and end of their names (e.g., `__init__`, `__str__`, `__len__`). \"Dunder\" is a shorthand for \"double underscore\". These methods are also sometimes referred to as \"magic methods\".\n",
        "- Dunder methods allow you to define how objects of your class interact with built-in Python operations and functions. They enable operator overloading, customization of object behavior, and integration with Python's language features. For example:\n",
        "  \n",
        "  - `__init__`: Called when an object is created, used for initialization.\n",
        "  - `__str__`: Called when you try to get a string representation of an object (e.g., with `print()`).\n",
        "  - `__len__`: Called when you use the `len()` function on an object.\n",
        "  - `__add__`: Called when you use the `+` operator on objects.\n",
        "- By implementing dunder methods in your classes, you can make your custom objects behave like built-in types in Python, providing a more intuitive and Pythonic interface.\n",
        "\n",
        "Q.6  Explain the concept of inheritance in OOP ?\n",
        "\n",
        "- Inheritance is a fundamental concept in Object-Oriented Programming (OOP) that allows a new class (called the **subclass**, **derived class**, or **child class**) to inherit properties (attributes) and behaviors (methods) from an existing class (called the **superclass**, **base class**, or **parent class**).\n",
        "- Think of it like real-world inheritance: a child inherits certain traits from their parents. In OOP, the subclass inherits the characteristics of the superclass. This promotes code reusability, as you don't need to rewrite the same code in multiple classes if they share common features.\n",
        "- The subclass can also:\n",
        "  - Add new attributes and methods.\n",
        "  - Override or modify the behavior of inherited methods to provide its own specific implementation (polymorphism).\n",
        "- Inheritance creates an \"is-a\" relationship. For example, a \"Dog\" class could inherit from an \"Animal\" class. A Dog \"is an\" Animal, so it inherits general animal characteristics like having a name and being able to eat, but it might also have its own specific methods like `bark()`.\n",
        "- Inheritance helps in creating a hierarchical structure of classes, making the code more organized, maintainable, and scalable.\n",
        "\n",
        "Q.7 What is polymorphism in OOP ?\n",
        "\n",
        "- Polymorphism is a core concept in Object-Oriented Programming (OOP) that means \"many forms\". In OOP, it refers to the ability of different objects to respond to the same method call in their own way. This allows you to treat objects of different classes in a uniform way, as long as they share a common interface (i.e., they have the same method names).\n",
        "- There are two main types of polymorphism in Python:\n",
        "  - **Method Overriding:** This occurs when a subclass provides its own implementation of a method that is already defined in its superclass. When the method is called on an object of the subclass, the subclass's version is executed instead of the superclass's version. This allows subclasses to specialize the behavior of inherited methods.\n",
        "  - **Method Overloading:** While not directly supported in the same way as in some other languages (like Java or C++), Python achieves a form of method overloading by allowing a single method name to have different behaviors based on the number or types of arguments passed to it. However, the last definition of a method with the same name will override previous ones. A more common Pythonic way to handle varying arguments is by using default arguments, variable-length arguments (`*args`, `**kwargs`), or by checking argument types within the method.\n",
        "- Polymorphism is important because it promotes flexibility, extensibility, and code reusability. It allows you to write generic code that can work with objects of different types, making your programs more adaptable to change. For example, you could have a list of different animal objects (dogs, cats, etc.) and call a `speak()` method on each of them, and each animal would produce its own specific sound.\n",
        "\n",
        "Q.8 How is encapsulation achieved in Python ?\n",
        "\n",
        "- In Python, encapsulation is achieved through a combination of conventions and name mangling. While Python doesn't have strict access modifiers like `public`, `private`, or `protected` as seen in some other languages (like Java or C++), it provides mechanisms to indicate and manage the intended visibility and accessibility of attributes and methods within a class:\n",
        "\n",
        "  - **Public Attributes and Methods:** By default, all attributes and methods in a Python class are considered public. This means they can be accessed directly from outside the class. This is the most common convention and is used when you intend for the members to be part of the class's public interface.\n",
        "\n",
        "  - **Protected Attributes and Methods (Convention):** A single underscore prefix (e.g., `_attribute_name` or `_method_name`) is used by convention to indicate that an attribute or method is \"protected\". This is a hint to other developers that these members are intended for internal use within the class or its subclasses and should not be accessed directly from outside the class. However, this is just a convention, and they can still be accessed directly if desired.\n",
        "\n",
        "  - **Private Attributes and Methods (Name Mangling):** A double underscore prefix (e.g., `__attribute_name` or `__method_name`) is used to indicate that an attribute or method is \"private\". When the Python interpreter encounters a name with a double underscore prefix within a class definition, it performs \"name mangling\". This means the name is internally transformed to include the class name (e.g., `_ClassName__attribute_name`). This makes it harder to access these members directly from outside the class, as the mangled name would need to be used. While not true strict privacy, it provides a level of encapsulation by preventing accidental external access.\n",
        "\n",
        "- Encapsulation in Python is also supported by:\n",
        "  - **Properties:** The `@property` decorator is commonly used to provide a controlled way to access and modify attributes. It allows you to define getter, setter, and deleter methods for an attribute, providing a more encapsulated way to manage its value and perform validation or other actions when it's accessed or modified.\n",
        "  - **Getter and Setter Methods:** Explicit getter and setter methods (e.g., `get_attribute()` and `set_attribute()`) can also be defined to control access to attributes, although using `@property` is often considered more Pythonic.\n",
        "\n",
        "- In summary, while Python's approach to encapsulation is more based on conventions and name mangling rather than strict access control, it provides effective ways to bundle data and methods, control access to data, and manage the intended visibility of class members, promoting better code organization, maintainability, and data integrity.\n",
        "\n",
        "Q.9  What is a constructor in Python ?\n",
        "\n",
        " - In Python, a constructor is a special method within a class that is automatically called when an object of that class is created. The primary purpose of a constructor is to initialize the object's attributes (data members) and perform any setup required for the object to be ready for use.\n",
        "\n",
        " - In Python, the constructor method is always named __init__. It's a dunder method (double underscore) that you define within your class. The self parameter in the __init__ method refers to the instance of the object being created. You can also define other parameters for the constructor to accept arguments that will be used to initialize the object's attributes.\n",
        "\n",
        "Q.10 What are class and static methods in Python ?\n",
        "\n",
        "-  In Python, class methods and static methods are types of methods defined within a class, but they behave differently from regular instance methods. They are primarily distinguished by how they are called and the type of first argument they receive.\n",
        "\n",
        "1. Instance Methods:\n",
        "\n",
        " - These are the most common type of methods you define in a class.\n",
        " - They operate on an instance of the class.\n",
        " - Their first parameter is conventionally self, which refers to the instance itself.\n",
        " - They can access and modify instance attributes and call other instance methods.\n",
        "\n",
        " class MyClass:\n",
        "\n",
        "    def __init__(self, value):\n",
        "        self.value = value\n",
        "\n",
        "    def instance_method(self):\n",
        "        print(f\"Instance method called on instance with value: {self.value}\")\n",
        "\n",
        "2. Class Methods:\n",
        "\n",
        " - These methods are bound to the class, not the instance.\n",
        " - They are defined using the @classmethod decorator.\n",
        " - Their first parameter is conventionally cls, which refers to the class object itself.\n",
        " - They can access and modify class attributes.\n",
        " - They are often used as alternative constructors or factory methods to create instances of the class in different ways.\n",
        "\n",
        "class MyClass:\n",
        "\n",
        "    class_variable = \"I am a class variable\"\n",
        "\n",
        "    @classmethod\n",
        "    def class_method(cls):\n",
        "        print(f\"Class method called on class: {cls.__name__}\")\n",
        "        print(f\"Accessing class variable: {cls.class_variable}\")\n",
        "\n",
        "    @classmethod\n",
        "    def create_from_string(cls, data_string):\n",
        "        # Example of an alternative constructor\n",
        "        name, age = data_string.split(',')\n",
        "        return cls(name, int(age))\n",
        "\n",
        " - Key characteristics of Class Methods:\n",
        "\n",
        "   - They receive the class as the first argument (cls).\n",
        "   - They can access and modify class state (class variables).\n",
        "   - They can be called on the class itself (MyClass.class_method()) or on an instance (obj.class_method()), but they operate on the class level.\n",
        "\n",
        "3. Static Methods:\n",
        "\n",
        " - These methods are not bound to either the instance or the class.\n",
        " - They are defined using the @staticmethod decorator.\n",
        " - They do not receive an implicit first argument (self or cls).\n",
        " - They are essentially regular functions that happen to be defined within a class, often because they have some logical connection to the class but don't need to access or modify the class's or the instance's state.\n",
        " - They cannot access or modify instance or class attributes directly unless they are passed as arguments.\n",
        "\n",
        " class MyClass:\n",
        "\n",
        "    @staticmethod\n",
        "    def static_method(x, y):\n",
        "        print(f\"Static method called with arguments: {x}, {y}\")\n",
        "        return x + y\n",
        "\n",
        " - Key characteristics of Static Methods:\n",
        "\n",
        "   - They do not receive self or cls as the first argument.\n",
        "   - They cannot access instance or class state unless explicitly passed.\n",
        "   - They behave like regular functions but are namespaced within the class.\n",
        "   - They can be called on the class itself (MyClass.static_method(1, 2)) or on an instance (obj.static_method(1, 2)).\n",
        "\n",
        "Q.11 What is method overloading in Python\n",
        "\n",
        "  - In Object-Oriented Programming (OOP), method overloading refers to the ability to define multiple methods within the same class that have the same name but different parameters (either in the number of parameters or their types). The appropriate method to be called is determined by the number and types of arguments passed during the method call.\n",
        "\n",
        "  - However, Python does not support method overloading in the same way as some other languages (like Java or C++) where the compiler or interpreter can differentiate between methods with the same name based on their signatures (parameter lists).\n",
        "\n",
        "  - If you define multiple methods with the same name in a Python class, the later definition will override the earlier ones. Only the last defined method with that name will be accessible.\n",
        "\n",
        "  - While Python doesn't have built-in method overloading, you can achieve similar flexibility using other techniques:\n",
        "\n",
        "    - Default Arguments: You can define a single method with default values for some parameters. This allows you to call the method with different numbers of arguments.\n",
        "\n",
        "    - Variable-Length Arguments (*args and **kwargs): You can use *args to accept a variable number of positional arguments and **kwargs to accept a variable number of keyword arguments. You can then check the number and types of arguments inside the method to perform different actions.\n",
        "\n",
        "    - Type Checking and Conditional Logic: Inside a single method, you can check the type of the arguments passed and execute different blocks of code accordingly.\n",
        "\n",
        "    - Using a Dispatch Dictionary or Decorators: For more complex scenarios, you can use dictionaries to map argument types to specific functions or explore libraries that provide decorators for single dispatch (like functools.singledispatch).\n",
        "\n",
        "Q.12 What is method overriding in OOP ?\n",
        "\n",
        "  - Method overriding is a fundamental concept in OOP where a subclass provides its own specific implementation of a method that is already defined in its superclass (parent class). When the method is called on an object of the subclass, the subclass's version of the method is executed instead of the superclass's version.\n",
        "\n",
        "  - Think of it like this: The superclass defines a general behavior, and the subclass wants to provide a more specific or different behavior for that same action. By overriding the method, the subclass essentially replaces the superclass's implementation with its own.\n",
        "\n",
        "  - Key points about method overriding:\n",
        "\n",
        "     - Inheritance is required: Method overriding can only occur in a scenario where there is an inheritance relationship between classes (a subclass inheriting from a superclass).\n",
        "\n",
        "     - Same method signature: The overriding method in the subclass must have the exact same name, number of parameters, and types of parameters as the method in the superclass that it is overriding. The return type should also be compatible (though Python is more flexible with return types than some other languages).\n",
        "\n",
        "     - Polymorphism in action: Method overriding is a key way that polymorphism is achieved. It allows you to treat objects of different classes (super and subclasses) in a uniform way by calling a method with the same name, and the appropriate version of the method (based on the object's actual type) is executed.\n",
        "\n",
        "     - super() function: Within the overridden method in the subclass, you can often use the super() function to call the implementation of the method from the superclass. This is useful if you want to extend the superclass's behavior rather than completely replace it.\n",
        "\n",
        "Q.13 What is a property decorator in Python ?\n",
        "\n",
        "  -  The @property decorator is a built-in Python decorator that provides a convenient way to define properties in a class. It allows you to manage instance attributes by defining getter, setter, and deleter methods for them, while still accessing them as if they were regular attributes. This is a very Pythonic way to achieve encapsulation and control how attributes are accessed and modified.\n",
        "\n",
        "  - Why use @property?\n",
        "\n",
        "     - Encapsulation: It allows you to hide the internal implementation details of how an attribute is stored or calculated and expose a public interface for accessing and modifying it.\n",
        "\n",
        "     - Validation: You can add validation logic in the setter method to ensure that the attribute is assigned valid values.\n",
        "     \n",
        "     - Computed Attributes: You can define a property that is not directly stored as an attribute but is computed on the fly based on other attributes.\n",
        "     \n",
        "     - Backward Compatibility: If you initially implemented an attribute as a public variable and later need to add some logic (like validation or computation) when it's accessed or modified, you can convert it to a property without changing the code that uses the attribute. The users of your class can still access it using the same dot notation (obj.attribute).\n",
        "\n",
        "Q.14 Why is polymorphism important in OOP ?\n",
        "\n",
        "  - Polymorphism is a really important concept in Object-Oriented Programming (OOP) because it brings several significant benefits to your code. Remember, polymorphism means \"many forms,\" and in OOP, it refers to the ability of different objects to respond to the same method call in their own way.\n",
        "\n",
        "  - Here's why polymorphism is important:\n",
        "\n",
        "     - Flexibility and Extensibility: Polymorphism makes your code more flexible and easier to extend. You can write code that works with a general type of object (like an Animal in our previous example) without needing to know the specific type of the object at compile time. This means you can add new subclasses (like a Bird class) without having to modify the existing code that interacts with the superclass. The existing code will automatically work with the new subclass as long as it implements the expected polymorphic methods.\n",
        "     \n",
        "     - Code Reusability: By allowing you to treat objects of different classes in a uniform way, polymorphism promotes code reusability. You can write functions or methods that operate on a collection of objects of different types (as long as they share a common interface) without needing to write separate logic for each specific type.\n",
        "     \n",
        "     - Simplified Code and Improved Readability: Polymorphism can simplify your code and make it more readable. Instead of using a series of if-elif-else statements to check the type of an object and call the appropriate method, you can simply call the polymorphic method, and the correct implementation will be executed automatically based on the object's type. This leads to cleaner and more concise code.\n",
        "     \n",
        "     - Easier Maintenance: Because polymorphism reduces the need for type-checking logic and makes code more extensible, it also makes your code easier to maintain. When you need to add new functionality or modify existing behavior, you can often do so by adding or modifying subclasses without impacting the code that uses the superclass polymorphically.\n",
        "     \n",
        "     - Decoupling: Polymorphism helps to decouple the code that uses objects from the specific implementations of those objects. The code that calls a polymorphic method doesn't need to know the exact class of the object it's dealing with; it only needs to know that the object has the expected method. This reduces dependencies and makes your code more modular.\n",
        "\n",
        "Q.15 What is an abstract class in Python ?\n",
        "\n",
        "  - In Object-Oriented Programming (OOP), an abstract class is a class that cannot be instantiated directly. It serves as a blueprint for other classes, providing a common interface and potentially some common implementation, but leaving certain methods \"abstract\" (without implementation). These abstract methods must then be implemented by any concrete (non-abstract) subclass that inherits from the abstract class.\n",
        "\n",
        "  - Abstract classes are used to define a contract for subclasses. They enforce that subclasses provide specific implementations for the abstract methods, ensuring that all subclasses have a certain set of behaviors.\n",
        "\n",
        "  - Key characteristics of abstract classes:\n",
        "\n",
        "     - Cannot be instantiated: You cannot create an object directly from an abstract class.\n",
        "\n",
        "     - Contain abstract methods: Abstract classes can have abstract methods, which are declared but do not have an implementation in the abstract class.\n",
        "     - Can contain concrete methods: Abstract classes can also have regular methods with implementations.\n",
        "     - Subclasses must implement abstract methods: Any concrete subclass inheriting from an abstract class must provide implementations for all of the abstract methods defined in the abstract class. If a subclass fails to implement all abstract methods, it also becomes an abstract class and cannot be instantiated.\n",
        "\n",
        "Q.16 What are the advantages of OOP ?\n",
        "\n",
        "  - Modularity: OOP encourages breaking down a complex system into smaller, self-contained units called objects. Each object is responsible for its own data and behavior. This modularity makes the code easier to understand, develop, and maintain.\n",
        "  \n",
        "  - Reusability: Through concepts like inheritance and polymorphism, OOP promotes code reusability. You can create new classes that inherit properties and behaviors from existing classes, reducing the need to write the same code multiple times. This saves development time and reduces the likelihood of errors.\n",
        "  \n",
        "  - Maintainability: Due to its modular and reusable nature, OOP code is generally easier to maintain. If a change is needed in a specific part of the system, you can often modify a single class or object without affecting other parts of the code, as long as the interface remains the same.\n",
        "  \n",
        "  - Flexibility and Extensibility: Polymorphism allows you to write code that can work with objects of different types that share a common interface. This makes your code more flexible and easier to extend with new features or types of objects without modifying existing code.\n",
        "  \n",
        "  - Abstraction: OOP allows you to hide complex implementation details and present a simplified view of objects to the outside world. This abstraction makes the code easier to use and understand, as users of an object only need to know what it does, not how it does it.\n",
        "  \n",
        "  - Encapsulation: Encapsulation bundles data and the methods that operate on that data within a single unit (an object). This protects the data from being directly accessed or modified from outside the object, ensuring data integrity and allowing controlled access through defined methods.\n",
        "  \n",
        "  - Improved Collaboration: In larger projects, the modular nature of OOP facilitates collaboration among developers. Different teams or individuals can work on different classes or objects independently, as long as they agree on the interfaces between them.\n",
        "  \n",
        "  - Easier Debugging: The self-contained nature of objects can make debugging easier. When an error occurs, it's often localized within a specific object, making it simpler to identify and fix the issue.\n",
        "\n",
        "Q.17 What is the difference between a class variable and an instance variable\n",
        "\n",
        "  - Both class variables and instance variables are used to store data within a class, but they differ in where they are defined and how they are accessed and shared.\n",
        "\n",
        "1. Instance Variables:\n",
        "\n",
        "  - Definition: Instance variables are defined within the methods of a class, typically within the __init__ constructor, using the self keyword.\n",
        "  \n",
        "  - Scope: They belong to a specific instance (object) of the class. Each instance of the class has its own copy of the instance variables.\n",
        "  \n",
        "  - Access: You access instance variables using the instance name followed by a dot (.), e.g., obj.instance_variable.\n",
        "  \n",
        "  - Purpose: They are used to store data that is unique to each instance of the class.\n",
        "\n",
        "  Example:\n",
        "  \n",
        "    class Dog:\n",
        "    def __init__(self, name, age):\n",
        "    self.name = name  # name is an instance variable\n",
        "    self.age = age    # age is an instance variable\n",
        "\n",
        "    dog1 = Dog(\"Buddy\", 3)\n",
        "    dog2 = Dog(\"Lucy\", 5)\n",
        "\n",
        "    print(dog1.name)  # Output: Buddy\n",
        "    print(dog2.name)  # Output: Lucy\n",
        "  \n",
        "In this example, name and age are instance variables. dog1 has its own name (\"Buddy\") and age (3), and dog2 has its own name (\"Lucy\") and age (5).\n",
        "\n",
        "2. Class Variables:\n",
        "\n",
        "  - Definition: Class variables are defined directly within the class definition, outside of any methods.\n",
        "  \n",
        "  - Scope: They belong to the class itself, and they are shared among all instances of that class. There is only one copy of a class variable for the entire class.\n",
        "  \n",
        "  - Access: You can access class variables using either the class name (ClassName.class_variable) or an instance name (obj.class_variable). However, it's generally recommended to access them using the class name to make it clear that you are referring to the class-level variable.\n",
        "  \n",
        "  - Purpose: They are used to store data that is common to all instances of the class or to define attributes that represent properties of the class itself.\n",
        "\n",
        "Example:\n",
        "\n",
        "    class Dog:\n",
        "    species = \"Canis familiaris\"  # species is a class variable\n",
        "\n",
        "    def __init__(self, name, age):\n",
        "    self.name = name\n",
        "    self.age = age\n",
        "\n",
        "    dog1 = Dog(\"Buddy\", 3)\n",
        "    dog2 = Dog(\"Lucy\", 5)\n",
        "\n",
        "    print(dog1.species)  # Output: Canis familiaris\n",
        "    print(dog2.species)  # Output: Canis familiaris\n",
        "    print(Dog.species)   # Output: Canis familiaris\n",
        "\n",
        "In this example, species is a class variable. All Dog instances share the same species value (\"Canis familiaris\").\n",
        "\n",
        "Q.18 What is multiple inheritance in Python ?\n",
        "\n",
        "  - Multiple inheritance is a feature in Object-Oriented Programming where a class can inherit properties and behaviors from more than one parent class. This means a single class can combine features from multiple sources.\n",
        "\n",
        "  - How it works in Python:\n",
        "\n",
        "  - In Python, you can specify multiple base classes in the class definition, separated by commas:\n",
        "    \n",
        "    class Base1:\n",
        "    pass\n",
        "    \n",
        "    class Base2:\n",
        "    pass\n",
        "   \n",
        "    class Derived(Base1, Base2):\n",
        "    pass\n",
        "\n",
        "In this example, the Derived class inherits from both Base1 and Base2. It gains access to the attributes and methods defined in both of its parent classes.\n",
        "\n",
        "  - The Diamond Problem / Method Resolution Order (MRO):\n",
        "\n",
        "  One of the potential complexities with multiple inheritance is the \"diamond problem.\" This occurs when a class inherits from two classes that have a common ancestor. If a method is defined in the common ancestor and overridden in the intermediate classes, and the derived class calls that method, Python needs a way to determine which version of the method to use.\n",
        "\n",
        "  Python solves this using the Method Resolution Order (MRO). The MRO is the order in which Python searches for a method in a class hierarchy. Python uses the C3 linearization algorithm to determine the MRO. You can inspect the MRO of a class using the mro() method or the __mro__ attribute:\n",
        "\n",
        "    class A:\n",
        "    def greet(self):\n",
        "    print(\"Hello from A\")\n",
        "\n",
        "    class B(A):\n",
        "    def greet(self):\n",
        "    print(\"Hello from B\")\n",
        "\n",
        "    class C(A):\n",
        "    def greet(self):\n",
        "    print(\"Hello from C\")\n",
        "\n",
        "    class D(B, C):\n",
        "    pass\n",
        "\n",
        "    d = D()\n",
        "    d.greet() # Output will depend on the MRO\n",
        "\n",
        "    print(D.mro())\n",
        "\n",
        "  The MRO for class D in this example would be [<class '__main__.D'>, <class '__main__.B'>, <class '__main__.C'>, <class '__main__.A'>, <class 'object'>]. Python will search for the greet method in this order. Since B appears before C in the MRO, D.greet() will call the greet method from class B.\n",
        "\n",
        "Q.19 Explain the purpose of ‘’__str__’ and ‘__repr__’ ‘ methods in Python ?\n",
        "\n",
        " the purpose of the __str__ and __repr__ methods in Python. These are both special \"dunder\" methods that you can define in your classes to control how objects of your class are represented as strings. While they both provide string representations, they serve slightly different purposes and are used in different contexts.\n",
        "\n",
        " - __str__(self):\n",
        "\n",
        "   - Purpose: The primary goal of __str__ is to provide a human-readable string representation of an object. It's intended for the end-user or someone who is using the object.\n",
        "\n",
        "   - Called by: This method is called by the built-in str() function and also implicitly by the print() function.\n",
        "\n",
        "   - Output: The output of __str__ should be a clear, concise, and easy-to-understand string that represents the object's state. It doesn't necessarily need to be unambiguous or provide enough information to recreate the object.\n",
        "\n",
        "  - __repr__(self):\n",
        "\n",
        "     - Purpose: The primary goal of __repr__ is to provide an unambiguous string representation of an object. It's intended for developers or for debugging purposes. The output should ideally be a string that, if evaluated, would recreate the object (assuming the necessary classes and environment are available).\n",
        "   \n",
        "     - Called by: This method is called by the built-in repr() function and also implicitly when you simply type the object's name in an interactive Python session (like in a Colab notebook or a Python shell) without using print().\n",
        "\n",
        "     - Output: The output of __repr__ should be a detailed string that clearly shows the object's type and essential attributes. A common convention is to format it in a way that looks like a valid Python expression that could be used to recreate the object, like ClassName(attribute1=value1, attribute2=value2).\n",
        "\n",
        "Q.20 What is the significance of the ‘super()’ function in Python ?\n",
        "\n",
        " - The super() function in Python is a built-in function that is primarily used in the context of inheritance, specifically in subclasses. Its main purpose is to provide a way to access methods and attributes of the parent class (or superclass) from within a subclass.\n",
        "\n",
        " - Significance and Use Cases:\n",
        "\n",
        "  - Calling Parent Class Methods: The most common use of super() is to call a method that has been overridden in the subclass, but you still want to execute the parent class's version of that method. This is particularly useful in the __init__ constructor to ensure that the parent class's initialization is performed before the subclass's initialization.\n",
        "  \n",
        "  - Why is it significant?\n",
        "\n",
        "   - Proper Initialization: It ensures that parent classes are properly initialized when creating objects of subclasses.\n",
        "\n",
        "   - Code Reusability: It allows you to reuse the functionality of parent class methods while extending or modifying them in subclasses.\n",
        "\n",
        "   - Correct MRO Navigation: In multiple inheritance, it's essential for calling methods in the correct order according to the MRO, preventing unexpected behavior.\n",
        "\n",
        "   - Maintainability: It makes your code more maintainable by clearly indicating when you are calling a parent class's method.\n",
        "\n",
        "Q.21 What is the significance of the __del__ method in Python ?\n",
        "\n",
        "  - The __del__ method, also known as the destructor or finalizer, is a special dunder method in Python that is called when an object is about to be destroyed or garbage-collected. Its primary purpose is to perform cleanup actions before the object is completely removed from memory.\n",
        "\n",
        "  - Significance and Use Cases:\n",
        "\n",
        "  - The __del__ method is significant because it provides a mechanism for objects to release resources that they have acquired during their lifetime, especially resources that are not automatically managed by Python's garbage collector.\n",
        "\n",
        "  - Common use cases for __del__ include:\n",
        "\n",
        "  - Releasing External Resources: This is the most common and important use case. Objects might hold references to external resources like:\n",
        "\n",
        "    - File handles\n",
        "    - Network connections\n",
        "    - Database connections\n",
        "    - Locks or semaphores\n",
        "    - Handles to external libraries or devices\n",
        "\n",
        "  - The __del__ method can be used to close these files, disconnect from servers, release locks, or perform any necessary cleanup to free up these external resources when the object is no longer needed.\n",
        "\n",
        "  - Logging or Auditing: You might use __del__ to log that an object has been destroyed or to perform auditing actions related to the object's lifecycle.\n",
        "\n",
        "  - Breaking Circular References (less common now): In older Python versions, __del__ was sometimes used to break circular references between objects to aid garbage collection. However, Python's modern garbage collector (specifically, the cyclic garbage collector) is generally effective at handling circular references, making this use case less critical today.\n",
        "\n",
        "\n",
        "Q.22 What is the difference between @staticmethod and @classmethod in Python ?\n",
        "\n",
        "  - Both @staticmethod and @classmethod are decorators used within a class to define methods that behave differently from regular instance methods. The key distinction lies in the implicit first argument they receive and their primary use cases.\n",
        "\n",
        " 1. @classmethod:\n",
        "\n",
        "  - Implicit First Argument: Receives the class object (cls) as its first argument, by convention.\n",
        "\n",
        "  - Bound to: The class itself, not an instance of the class.\n",
        "\n",
        "  - Can Access: Can access and modify class attributes (variables defined directly within the class).\n",
        "\n",
        "  - Cannot Access: Cannot access or modify instance attributes (variables defined on self).\n",
        "  \n",
        "  - Primary Use Cases:\n",
        "\n",
        "  - Alternative Constructors: Creating instances of the class in different ways. Class methods are often used as factory methods.\n",
        "  \n",
        "  - Operations involving Class State: When a method needs to operate on or access class-level data.\n",
        "\n",
        "Example:\n",
        "\n",
        "class MyClass:\n",
        "    count = 0 # Class variable\n",
        "\n",
        "    def __init__(self, name):\n",
        "        self.name = name # Instance variable\n",
        "        MyClass.count += 1 # Increment class variable on instance creation\n",
        "\n",
        "    @classmethod\n",
        "    def increment_count(cls):\n",
        "        \"\"\"Class method to increment the class variable.\"\"\"\n",
        "        cls.count += 1\n",
        "        print(f\"Class count incremented. New count: {cls.count}\")\n",
        "\n",
        "    @classmethod\n",
        "    def create_with_prefix(cls, name):\n",
        "        \"\"\"Alternative constructor using a class method.\"\"\"\n",
        "        return cls(f\"Prefix_{name}\")\n",
        "\n",
        "    def display_info(self):\n",
        "        print(f\"Instance: {self.name}, Total instances: {MyClass.count}\")\n",
        "\n",
        "# Accessing and using class methods\n",
        "MyClass.increment_count() # Called on the class\n",
        "obj1 = MyClass(\"Alice\")\n",
        "obj1.display_info()\n",
        "\n",
        "obj2 = MyClass.create_with_prefix(\"Bob\") # Using alternative constructor\n",
        "obj2.display_info()\n",
        "\n",
        " 2. @staticmethod:\n",
        "\n",
        "  - Implicit First Argument: Receives no implicit first argument (neither self nor cls).\n",
        "\n",
        "  - Bound to: The class namespace, but not bound to the class or an instance.\n",
        "  - Can Access: Cannot access or modify instance attributes or class attributes directly unless they are passed as arguments to the static method.\n",
        "  \n",
        "  - Cannot Access: Does not have access to the instance (self) or the class (cls).\n",
        "  \n",
        "  - Primary Use Cases:\n",
        "     - Utility Functions: Defining functions that logically belong to the class but don't need to access instance or class-specific data.\n",
        "     - Helper Methods: Methods that perform a calculation or action related to the class but don't depend on the class or instance state.\n",
        "\n",
        "  Example:\n",
        "\n",
        "class MathOperations:\n",
        "    @staticmethod\n",
        "    def add(x, y):\n",
        "        \"\"\"Static method to add two numbers.\"\"\"\n",
        "        return x + y\n",
        "\n",
        "    @staticmethod\n",
        "    def multiply(x, y):\n",
        "        \"\"\"Static method to multiply two numbers.\"\"\"\n",
        "        return x * y\n",
        "\n",
        "# Accessing and using static methods\n",
        "result_add = MathOperations.add(5, 3) # Called on the class\n",
        "print(f\"Addition result: {result_add}\")\n",
        "\n",
        "result_multiply = MathOperations.multiply(4, 6) # Called on the class\n",
        "print(f\"Multiplication result: {result_multiply}\")\n",
        "\n",
        "Q.23 How does polymorphism work in Python with inheritance ?\n",
        "\n",
        "  - Polymorphism and inheritance are closely related concepts in Object-Oriented Programming (OOP), and they work together in Python to enable flexible and extensible code.\n",
        "\n",
        "  - Here's how polymorphism works in Python with inheritance:\n",
        "\n",
        "     - Inheritance establishes a hierarchy: Inheritance creates a relationship between a superclass (parent) and one or more subclasses (children). The subclass inherits attributes and methods from the superclass. This sets up a structure where objects of different classes can be related.\n",
        "\n",
        "     - Method Overriding enables different behaviors: When a subclass inherits a method from its superclass, it can provide its own specific implementation of that method. This is called method overriding. The method in the subclass has the same name and signature as the method in the superclass.\n",
        "\n",
        "     - Polymorphism allows uniform treatment: Because of inheritance and method overriding, you can treat objects of different subclasses in a uniform way by referring to them through their common superclass type. When you call a method on an object that has been overridden in the subclass, Python's runtime determines the actual type of the object and executes the appropriate version of the method (the one defined in the subclass).\n",
        "\n",
        "Q.24 What is method chaining in Python OOP ?\n",
        "\n",
        "  - Method chaining, also known as fluent interface, is a technique in Object-Oriented Programming (OOP) where you can call multiple methods on an object in a single expression, with each method call returning the object itself. This allows for a more concise and readable way to perform a sequence of operations on an object.\n",
        "\n",
        "  - To enable method chaining, each method in the chain must return the instance of the object (self).\n",
        "\n",
        "  - How it works:\n",
        "\n",
        "  - When you call a method on an object that is designed for chaining, that method performs its operation and then returns the object (self) itself. This returned object is then used to call the next method in the chain, and so on.\n",
        "\n",
        "  Example:\n",
        "\n",
        " Let's say you have a class Calculator with methods for adding and subtracting. To enable method chaining, each method would return self:\n",
        "\n",
        " class Calculator:\n",
        "    def __init__(self, value=0):\n",
        "        self.value = value\n",
        "\n",
        "    def add(self, amount):\n",
        "        self.value += amount\n",
        "        return self  # Return the instance\n",
        "\n",
        "    def subtract(self, amount):\n",
        "        self.value -= amount\n",
        "        return self  # Return the instance\n",
        "\n",
        "    def get_value(self):\n",
        "        return self.value\n",
        "\n",
        "# Using method chaining\n",
        "result = Calculator(10).add(5).subtract(3).get_value()\n",
        "print(result)  # Output: 12\n",
        "\n",
        "Q.25 What is the purpose of the __call__ method in Python ?\n",
        "\n",
        "  - The __call__ method, also known as the \"callable\" method, is a special dunder method in Python. If a class defines this method, it means that instances of that class can be called like a function. In essence, it allows you to make objects \"callable\".\n",
        "\n",
        "  - Purpose and Significance:\n",
        "\n",
        "  - The primary purpose of __call__ is to make instances of a class behave like functions or callable objects. When you call an instance of a class that has a __call__ method defined (e.g., my_object(arg1, arg2)), Python internally invokes the __call__ method of that object.\n",
        "\n",
        "  - Use Cases:\n",
        "\n",
        "  - Creating Function-like Objects with State: __call__ is often used to create objects that maintain some state while behaving like functions. This is useful for creating closures or objects that need to remember information between calls.\n",
        "\n",
        "    class Repeater:\n",
        "        \n",
        "        def __init__(self, num_times):\n",
        "            self.num_times = num_times\n",
        "\n",
        "        def __call__(self, func):\n",
        "            def wrapper(*args, **kwargs):\n",
        "                for _ in range(self.num_times):\n",
        "                    func(*args, **kwargs)\n",
        "            return wrapper\n",
        "\n",
        "    @Repeater(num_times=3)\n",
        "    def greet(name):\n",
        "        print(f\"Hello, {name}!\")\n",
        "\n",
        "    greet(\"Alice\")\n",
        "    # Output:\n",
        "    # Hello, Alice!\n",
        "    # Hello, Alice!\n",
        "    # Hello, Alice!"
      ]
    },
    {
      "cell_type": "code",
      "source": [
        "# Practical Questions"
      ],
      "metadata": {
        "id": "BLxclj2iNAjU"
      },
      "execution_count": null,
      "outputs": []
    },
    {
      "cell_type": "code",
      "source": [
        "# 1.Create a parent class Animal with a method speak() that prints a generic message. Create a child class Dog that overrides the speak() method to print \"Bark!\".\n",
        "class Animal:\n",
        "    def speak(self):\n",
        "        print(\"Generic animal sound\")\n",
        "\n",
        "class Dog(Animal):\n",
        "    def speak(self):\n",
        "        print(\"Bark!\")\n",
        "\n",
        "# Example usage\n",
        "animal = Animal()\n",
        "dog = Dog()\n",
        "\n",
        "animal.speak()\n",
        "dog.speak()"
      ],
      "metadata": {
        "colab": {
          "base_uri": "https://localhost:8080/"
        },
        "id": "cDhT0Z-5Nefu",
        "outputId": "214559c4-6f65-4106-a600-766a672bf66e"
      },
      "execution_count": 2,
      "outputs": [
        {
          "output_type": "stream",
          "name": "stdout",
          "text": [
            "Generic animal sound\n",
            "Bark!\n"
          ]
        }
      ]
    },
    {
      "cell_type": "code",
      "metadata": {
        "colab": {
          "base_uri": "https://localhost:8080/"
        },
        "id": "e336705a",
        "outputId": "12571e94-f397-4e68-b542-089d7060110f"
      },
      "source": [
        "# 2.Write a program to create an abstract class Shape with a method area(). Derive classes Circle and Rectangle from it and implement the area() method in both.\n",
        "from abc import ABC, abstractmethod\n",
        "import math\n",
        "\n",
        "class Shape(ABC):\n",
        "    @abstractmethod\n",
        "    def area(self):\n",
        "        pass\n",
        "\n",
        "class Circle(Shape):\n",
        "    def __init__(self, radius):\n",
        "        self.radius = radius\n",
        "\n",
        "    def area(self):\n",
        "        return math.pi * self.radius**2\n",
        "\n",
        "class Rectangle(Shape):\n",
        "    def __init__(self, width, height):\n",
        "        self.width = width\n",
        "        self.height = height\n",
        "\n",
        "    def area(self):\n",
        "        return self.width * self.height\n",
        "\n",
        "# Example usage\n",
        "# shape = Shape() # This would raise a TypeError because Shape is an abstract class\n",
        "circle = Circle(5)\n",
        "rectangle = Rectangle(4, 6)\n",
        "\n",
        "print(f\"Area of Circle: {circle.area()}\")\n",
        "print(f\"Area of Rectangle: {rectangle.area()}\")"
      ],
      "execution_count": 3,
      "outputs": [
        {
          "output_type": "stream",
          "name": "stdout",
          "text": [
            "Area of Circle: 78.53981633974483\n",
            "Area of Rectangle: 24\n"
          ]
        }
      ]
    },
    {
      "cell_type": "code",
      "source": [
        "# 3.Implement a multi-level inheritance scenario where a class Vehicle has an attribute type. Derive a class Car and further derive a class ElectricCar that adds a battery attribute.\n",
        "class Vehicle:\n",
        "    def __init__(self, vehicle_type):\n",
        "        self.type = vehicle_type\n",
        "\n",
        "class Car(Vehicle):\n",
        "    def __init__(self, vehicle_type, model):\n",
        "        super().__init__(vehicle_type)\n",
        "        self.model = model\n",
        "\n",
        "class ElectricCar(Car):\n",
        "    def __init__(self, vehicle_type, model, battery_capacity):\n",
        "        super().__init__(vehicle_type, model)\n",
        "        self.battery = battery_capacity\n",
        "\n",
        "# Example usage\n",
        "vehicle = Vehicle(\"Generic\")\n",
        "car = Car(\"Sedan\", \"Toyota Camry\")\n",
        "electric_car = ElectricCar(\"Sedan\", \"Tesla Model 3\", \"75 kWh\")\n",
        "\n",
        "print(f\"Vehicle Type: {vehicle.type}\")\n",
        "print(f\"Car Type: {car.type}, Model: {car.model}\")\n",
        "print(f\"Electric Car Type: {electric_car.type}, Model: {electric_car.model}, Battery: {electric_car.battery}\")"
      ],
      "metadata": {
        "colab": {
          "base_uri": "https://localhost:8080/"
        },
        "id": "23bO7ybkPDop",
        "outputId": "cb71e738-4ee4-4650-d188-a1d6864bcdd7"
      },
      "execution_count": 4,
      "outputs": [
        {
          "output_type": "stream",
          "name": "stdout",
          "text": [
            "Vehicle Type: Generic\n",
            "Car Type: Sedan, Model: Toyota Camry\n",
            "Electric Car Type: Sedan, Model: Tesla Model 3, Battery: 75 kWh\n"
          ]
        }
      ]
    },
    {
      "cell_type": "code",
      "source": [
        "# 4.Demonstrate polymorphism by creating a base class Bird with a method fly(). Create two derived classes Sparrow and Penguin that override the fly() method\n",
        "class Bird:\n",
        "    def fly(self):\n",
        "        print(\"Bird is flying\")\n",
        "\n",
        "class Sparrow(Bird):\n",
        "    def fly(self):\n",
        "        print(\"Sparrow is flying high\")\n",
        "\n",
        "class Penguin(Bird):\n",
        "    def fly(self):\n",
        "        print(\"Penguin cannot fly, but it can swim!\")\n",
        "\n",
        "# Example usage\n",
        "birds = [Bird(), Sparrow(), Penguin()]\n",
        "\n",
        "for bird in birds:\n",
        "    bird.fly()"
      ],
      "metadata": {
        "colab": {
          "base_uri": "https://localhost:8080/"
        },
        "id": "fVtNjnAeQLiD",
        "outputId": "b06318f2-9855-44c9-f83b-1eb98a1309ce"
      },
      "execution_count": 5,
      "outputs": [
        {
          "output_type": "stream",
          "name": "stdout",
          "text": [
            "Bird is flying\n",
            "Sparrow is flying high\n",
            "Penguin cannot fly, but it can swim!\n"
          ]
        }
      ]
    },
    {
      "cell_type": "code",
      "source": [
        "# 5.Write a program to demonstrate encapsulation by creating a class BankAccount with private attributes balance and methods to deposit, withdraw, and check balance.\n",
        "class BankAccount:\n",
        "    def __init__(self, initial_balance=0):\n",
        "        self.__balance = initial_balance # Private attribute\n",
        "\n",
        "    def deposit(self, amount):\n",
        "        if amount > 0:\n",
        "            self.__balance += amount\n",
        "            print(f\"Deposited: {amount}. New balance: {self.__balance}\")\n",
        "        else:\n",
        "            print(\"Deposit amount must be positive.\")\n",
        "\n",
        "    def withdraw(self, amount):\n",
        "        if 0 < amount <= self.__balance:\n",
        "            self.__balance -= amount\n",
        "            print(f\"Withdrew: {amount}. New balance: {self.__balance}\")\n",
        "        elif amount > self.__balance:\n",
        "            print(\"Insufficient funds.\")\n",
        "        else:\n",
        "            print(\"Withdrawal amount must be positive.\")\n",
        "\n",
        "    def get_balance(self):\n",
        "        return self.__balance\n",
        "\n",
        "# Example usage\n",
        "account = BankAccount(1000)\n",
        "\n",
        "account.deposit(500)\n",
        "account.withdraw(200)\n",
        "account.withdraw(1500) # Insufficient funds\n",
        "print(f\"Current balance: {account.get_balance()}\")\n",
        "\n",
        "# Trying to access the private attribute directly (will not work as expected due to name mangling)\n",
        "# print(account.__balance)"
      ],
      "metadata": {
        "colab": {
          "base_uri": "https://localhost:8080/"
        },
        "id": "9Q8Q01IbQPur",
        "outputId": "df6c90e4-13a6-40a6-d954-d27a643ecdb7"
      },
      "execution_count": 6,
      "outputs": [
        {
          "output_type": "stream",
          "name": "stdout",
          "text": [
            "Deposited: 500. New balance: 1500\n",
            "Withdrew: 200. New balance: 1300\n",
            "Insufficient funds.\n",
            "Current balance: 1300\n"
          ]
        }
      ]
    },
    {
      "cell_type": "code",
      "source": [
        "# 6.Demonstrate runtime polymorphism using a method play() in a base class Instrument. Derive classes Guitar and Piano that implement their own version of play().\n",
        "class Instrument:\n",
        "    def play(self):\n",
        "        print(\"Playing a generic instrument sound\")\n",
        "\n",
        "class Guitar(Instrument):\n",
        "    def play(self):\n",
        "        print(\"Strumming the guitar\")\n",
        "\n",
        "class Piano(Instrument):\n",
        "    def play(self):\n",
        "        print(\"Playing the piano keys\")\n",
        "\n",
        "# Example usage\n",
        "instruments = [Instrument(), Guitar(), Piano()]\n",
        "\n",
        "for instrument in instruments:\n",
        "    instrument.play()"
      ],
      "metadata": {
        "colab": {
          "base_uri": "https://localhost:8080/"
        },
        "id": "6PpsskVaRCwY",
        "outputId": "523a9bb0-4a91-4728-c8a3-a68d9dbda245"
      },
      "execution_count": 7,
      "outputs": [
        {
          "output_type": "stream",
          "name": "stdout",
          "text": [
            "Playing a generic instrument sound\n",
            "Strumming the guitar\n",
            "Playing the piano keys\n"
          ]
        }
      ]
    },
    {
      "cell_type": "code",
      "source": [
        "# 7.Create a class MathOperations with a class method add_numbers() to add two numbers and a static method subtract_numbers() to subtract two numbers\n",
        "class MathOperations:\n",
        "    @classmethod\n",
        "    def add_numbers(cls, x, y):\n",
        "        \"\"\"Class method to add two numbers.\"\"\"\n",
        "        return x + y\n",
        "\n",
        "    @staticmethod\n",
        "    def subtract_numbers(x, y):\n",
        "        \"\"\"Static method to subtract two numbers.\"\"\"\n",
        "        return x - y\n",
        "\n",
        "# Example usage\n",
        "result_add = MathOperations.add_numbers(10, 5)\n",
        "print(f\"Addition result: {result_add}\")\n",
        "\n",
        "result_subtract = MathOperations.subtract_numbers(10, 5)\n",
        "print(f\"Subtraction result: {result_subtract}\")"
      ],
      "metadata": {
        "colab": {
          "base_uri": "https://localhost:8080/"
        },
        "id": "S_BbtU_SRTtJ",
        "outputId": "0a395b00-9baf-42d6-a0df-30d5b29a3692"
      },
      "execution_count": 8,
      "outputs": [
        {
          "output_type": "stream",
          "name": "stdout",
          "text": [
            "Addition result: 15\n",
            "Subtraction result: 5\n"
          ]
        }
      ]
    },
    {
      "cell_type": "code",
      "source": [
        "# 8.Implement a class Person with a class method to count the total number of persons created.\n",
        "class Person:\n",
        "    count = 0  # Class variable to keep track of the number of instances\n",
        "\n",
        "    def __init__(self, name):\n",
        "        self.name = name\n",
        "        Person.count += 1  # Increment the class variable each time a new instance is created\n",
        "\n",
        "    @classmethod\n",
        "    def get_person_count(cls):\n",
        "        \"\"\"Class method to return the total number of Person instances created.\"\"\"\n",
        "        return cls.count\n",
        "\n",
        "# Example usage\n",
        "person1 = Person(\"Alice\")\n",
        "person2 = Person(\"Bob\")\n",
        "person3 = Person(\"Charlie\")\n",
        "\n",
        "print(f\"Total number of persons created: {Person.get_person_count()}\")"
      ],
      "metadata": {
        "colab": {
          "base_uri": "https://localhost:8080/"
        },
        "id": "bVpmV9m-Ruxq",
        "outputId": "45029856-0d72-4442-d582-64269a478dc5"
      },
      "execution_count": 9,
      "outputs": [
        {
          "output_type": "stream",
          "name": "stdout",
          "text": [
            "Total number of persons created: 3\n"
          ]
        }
      ]
    },
    {
      "cell_type": "code",
      "source": [
        "# 9.Write a class Fraction with attributes numerator and denominator. Override the str method to display the fraction as \"numerator/denominator\".\n",
        "class Fraction:\n",
        "    def __init__(self, numerator, denominator):\n",
        "        self.numerator = numerator\n",
        "        self.denominator = denominator\n",
        "\n",
        "    def __str__(self):\n",
        "        \"\"\"Override the string representation to display as 'numerator/denominator'.\"\"\"\n",
        "        return f\"{self.numerator}/{self.denominator}\"\n",
        "\n",
        "# Example usage\n",
        "fraction1 = Fraction(3, 4)\n",
        "fraction2 = Fraction(1, 2)\n",
        "\n",
        "print(fraction1)\n",
        "print(fraction2)"
      ],
      "metadata": {
        "colab": {
          "base_uri": "https://localhost:8080/"
        },
        "id": "3wpoMKF-SFX0",
        "outputId": "6b131f7f-fa54-4d3d-eb06-b174d7c5616e"
      },
      "execution_count": 10,
      "outputs": [
        {
          "output_type": "stream",
          "name": "stdout",
          "text": [
            "3/4\n",
            "1/2\n"
          ]
        }
      ]
    },
    {
      "cell_type": "code",
      "source": [
        "# 10.Demonstrate operator overloading by creating a class Vector and overriding the add method to add two vectors\n",
        "class Vector:\n",
        "    def __init__(self, x, y):\n",
        "        self.x = x\n",
        "        self.y = y\n",
        "\n",
        "    def __str__(self):\n",
        "        return f\"Vector({self.x}, {self.y})\"\n",
        "\n",
        "    def __add__(self, other):\n",
        "        \"\"\"Overrides the + operator to add two Vector objects.\"\"\"\n",
        "        if isinstance(other, Vector):\n",
        "            return Vector(self.x + other.x, self.y + other.y)\n",
        "        else:\n",
        "            raise TypeError(\"Can only add a Vector object to another Vector object\")\n",
        "\n",
        "# Example usage\n",
        "vector1 = Vector(2, 3)\n",
        "vector2 = Vector(5, 1)\n",
        "\n",
        "vector3 = vector1 + vector2\n",
        "print(vector3)"
      ],
      "metadata": {
        "colab": {
          "base_uri": "https://localhost:8080/"
        },
        "id": "Qt7yzrl7Smhp",
        "outputId": "0b3d2b30-68c2-4355-d119-2695af189006"
      },
      "execution_count": 11,
      "outputs": [
        {
          "output_type": "stream",
          "name": "stdout",
          "text": [
            "Vector(7, 4)\n"
          ]
        }
      ]
    },
    {
      "cell_type": "code",
      "source": [
        "# 11.Create a class Person with attributes name and age. Add a method greet() that prints \"Hello, my name is {name} and I am {age} years old.\"\n",
        "class Person:\n",
        "    def __init__(self, name, age):\n",
        "        self.name = name\n",
        "        self.age = age\n",
        "\n",
        "    def greet(self):\n",
        "        print(f\"Hello, my name is {self.name} and I am {self.age} years old.\")\n",
        "\n",
        "# Example usage\n",
        "person = Person(\"Alice\", 30)\n",
        "person.greet()"
      ],
      "metadata": {
        "colab": {
          "base_uri": "https://localhost:8080/"
        },
        "id": "xGn38Cf4TEI6",
        "outputId": "86727a13-b7f8-460a-88b3-055c9d7a7173"
      },
      "execution_count": 12,
      "outputs": [
        {
          "output_type": "stream",
          "name": "stdout",
          "text": [
            "Hello, my name is Alice and I am 30 years old.\n"
          ]
        }
      ]
    },
    {
      "cell_type": "code",
      "source": [
        "# 12.Implement a class Student with attributes name and grades. Create a method average_grade() to compute the average of the grades.\n",
        "class Student:\n",
        "    def __init__(self, name, grades):\n",
        "        self.name = name\n",
        "        self.grades = grades\n",
        "\n",
        "    def average_grade(self):\n",
        "        if not self.grades:\n",
        "            return 0\n",
        "        return sum(self.grades) / len(self.grades)\n",
        "\n",
        "# Example usage\n",
        "student1 = Student(\"Alice\", [85, 90, 92, 88])\n",
        "student2 = Student(\"Bob\", [78, 81, 85])\n",
        "\n",
        "print(f\"{student1.name}'s average grade: {student1.average_grade()}\")\n",
        "print(f\"{student2.name}'s average grade: {student2.average_grade()}\")"
      ],
      "metadata": {
        "colab": {
          "base_uri": "https://localhost:8080/"
        },
        "id": "38dm1IIeTa1B",
        "outputId": "b410cf69-f7c9-480a-a1c4-c0bbafc50a5f"
      },
      "execution_count": 13,
      "outputs": [
        {
          "output_type": "stream",
          "name": "stdout",
          "text": [
            "Alice's average grade: 88.75\n",
            "Bob's average grade: 81.33333333333333\n"
          ]
        }
      ]
    },
    {
      "cell_type": "code",
      "source": [
        "# 13.Create a class Rectangle with methods set_dimensions() to set the dimensions and area() to calculate the area.\n",
        "class Rectangle:\n",
        "    def __init__(self):\n",
        "        self.width = 0\n",
        "        self.height = 0\n",
        "\n",
        "    def set_dimensions(self, width, height):\n",
        "        if width >= 0 and height >= 0:\n",
        "            self.width = width\n",
        "            self.height = height\n",
        "        else:\n",
        "            print(\"Dimensions must be non-negative.\")\n",
        "\n",
        "    def area(self):\n",
        "        return self.width * self.height\n",
        "\n",
        "# Example usage\n",
        "rectangle = Rectangle()\n",
        "rectangle.set_dimensions(10, 5)\n",
        "print(f\"Area of the rectangle: {rectangle.area()}\")\n",
        "\n",
        "rectangle.set_dimensions(-2, 5) # Example of invalid input\n",
        "print(f\"Area of the rectangle: {rectangle.area()}\") # Area remains based on previous valid dimensions\n"
      ],
      "metadata": {
        "colab": {
          "base_uri": "https://localhost:8080/"
        },
        "id": "_xNpcY4GTswZ",
        "outputId": "f70eb7d2-189c-4dbf-f71e-90346b2b6dd2"
      },
      "execution_count": 14,
      "outputs": [
        {
          "output_type": "stream",
          "name": "stdout",
          "text": [
            "Area of the rectangle: 50\n",
            "Dimensions must be non-negative.\n",
            "Area of the rectangle: 50\n"
          ]
        }
      ]
    },
    {
      "cell_type": "code",
      "source": [
        "# 14.Create a class Employee with a method calculate_salary() that computes the salary based on hours worked and hourly rate. Create a derived class Manager that adds a bonus to the salary.\n",
        "class Employee:\n",
        "    def __init__(self, hours_worked, hourly_rate):\n",
        "        self.hours_worked = hours_worked\n",
        "        self.hourly_rate = hourly_rate\n",
        "\n",
        "    def calculate_salary(self):\n",
        "        return self.hours_worked * self.hourly_rate\n",
        "\n",
        "class Manager(Employee):\n",
        "    def __init__(self, hours_worked, hourly_rate, bonus):\n",
        "        super().__init__(hours_worked, hourly_rate)\n",
        "        self.bonus = bonus\n",
        "\n",
        "    def calculate_salary(self):\n",
        "        base_salary = super().calculate_salary()\n",
        "        return base_salary + self.bonus\n",
        "\n",
        "# Example usage\n",
        "employee = Employee(40, 20)\n",
        "manager = Manager(40, 20, 500)\n",
        "\n",
        "print(f\"Employee Salary: {employee.calculate_salary()}\")\n",
        "print(f\"Manager Salary: {manager.calculate_salary()}\")"
      ],
      "metadata": {
        "colab": {
          "base_uri": "https://localhost:8080/"
        },
        "id": "9MDPApSET-bW",
        "outputId": "d8aa73db-ffca-4a39-d770-cc7d60af59ac"
      },
      "execution_count": 16,
      "outputs": [
        {
          "output_type": "stream",
          "name": "stdout",
          "text": [
            "Employee Salary: 800\n",
            "Manager Salary: 1300\n"
          ]
        }
      ]
    },
    {
      "cell_type": "code",
      "source": [
        "# 15.Create a class Product with attributes name, price, and quantity. Implement a method total_price() that calculates the total price of the product.\n",
        "class Product:\n",
        "    def __init__(self, name, price, quantity):\n",
        "        self.name = name\n",
        "        self.price = price\n",
        "        self.quantity = quantity\n",
        "\n",
        "    def total_price(self):\n",
        "        return self.price * self.quantity\n",
        "\n",
        "# Example usage\n",
        "product1 = Product(\"Laptop\", 1200, 1)\n",
        "product2 = Product(\"Mouse\", 25, 5)\n",
        "\n",
        "print(f\"Total price for {product1.name}: ${product1.total_price()}\")\n",
        "print(f\"Total price for {product2.name}: ${product2.total_price()}\")"
      ],
      "metadata": {
        "colab": {
          "base_uri": "https://localhost:8080/"
        },
        "id": "YKXnDrmoUSc_",
        "outputId": "a8947ee1-6988-41b6-ba96-f07f72804cab"
      },
      "execution_count": 17,
      "outputs": [
        {
          "output_type": "stream",
          "name": "stdout",
          "text": [
            "Total price for Laptop: $1200\n",
            "Total price for Mouse: $125\n"
          ]
        }
      ]
    },
    {
      "cell_type": "code",
      "source": [
        "# 16.Create a class Animal with an abstract method sound(). Create two derived classes Cow and Sheep that implement the sound() method.\n",
        "from abc import ABC, abstractmethod\n",
        "\n",
        "class Animal(ABC):\n",
        "    @abstractmethod\n",
        "    def sound(self):\n",
        "        pass\n",
        "\n",
        "class Cow(Animal):\n",
        "    def sound(self):\n",
        "        print(\"Moo!\")\n",
        "\n",
        "class Sheep(Animal):\n",
        "    def sound(self):\n",
        "        print(\"Baa!\")\n",
        "\n",
        "# Example usage\n",
        "# animal = Animal() # This would raise a TypeError because Animal is an abstract class\n",
        "cow = Cow()\n",
        "sheep = Sheep()\n",
        "\n",
        "cow.sound()\n",
        "sheep.sound()"
      ],
      "metadata": {
        "colab": {
          "base_uri": "https://localhost:8080/"
        },
        "id": "uouvd51RUkE8",
        "outputId": "8d878be0-fbd6-4ead-b09b-e7418ea14bbf"
      },
      "execution_count": 18,
      "outputs": [
        {
          "output_type": "stream",
          "name": "stdout",
          "text": [
            "Moo!\n",
            "Baa!\n"
          ]
        }
      ]
    },
    {
      "cell_type": "code",
      "source": [
        "# 17.Create a class Book with attributes title, author, and year_published. Add a method get_book_info() that returns a formatted string with the book's details.\n",
        "class Book:\n",
        "    def __init__(self, title, author, year_published):\n",
        "        self.title = title\n",
        "        self.author = author\n",
        "        self.year_published = year_published\n",
        "\n",
        "    def get_book_info(self):\n",
        "        \"\"\"Returns a formatted string with the book's details.\"\"\"\n",
        "        return f\"'{self.title}' by {self.author} ({self.year_published})\"\n",
        "\n",
        "# Example usage\n",
        "book1 = Book(\"The Hitchhiker's Guide to the Galaxy\", \"Douglas Adams\", 1979)\n",
        "book2 = Book(\"Pride and Prejudice\", \"Jane Austen\", 1813)\n",
        "\n",
        "print(book1.get_book_info())\n",
        "print(book2.get_book_info())"
      ],
      "metadata": {
        "colab": {
          "base_uri": "https://localhost:8080/"
        },
        "id": "WF38RymMU6Q0",
        "outputId": "ec5a5051-8d2e-48a1-f536-83c0544f3a82"
      },
      "execution_count": 19,
      "outputs": [
        {
          "output_type": "stream",
          "name": "stdout",
          "text": [
            "'The Hitchhiker's Guide to the Galaxy' by Douglas Adams (1979)\n",
            "'Pride and Prejudice' by Jane Austen (1813)\n"
          ]
        }
      ]
    },
    {
      "cell_type": "code",
      "source": [
        "# 18.Create a class House with attributes address and price. Create a derived class Mansion that adds an attribute number_of_rooms\n",
        "class House:\n",
        "    def __init__(self, address, price):\n",
        "        self.address = address\n",
        "        self.price = price\n",
        "\n",
        "class Mansion(House):\n",
        "    def __init__(self, address, price, number_of_rooms):\n",
        "        super().__init__(address, price)\n",
        "        self.number_of_rooms = number_of_rooms\n",
        "\n",
        "# Example usage\n",
        "house = House(\"123 Main St\", 250000)\n",
        "mansion = Mansion(\"456 Mansion Ave\", 1500000, 20)\n",
        "\n",
        "print(f\"House Address: {house.address}, Price: ${house.price}\")\n",
        "print(f\"Mansion Address: {mansion.address}, Price: ${mansion.price}, Rooms: {mansion.number_of_rooms}\")"
      ],
      "metadata": {
        "colab": {
          "base_uri": "https://localhost:8080/"
        },
        "id": "YITqWUtUVG1g",
        "outputId": "a82f0766-f0f0-4ff4-bd5a-b2a331fb3b12"
      },
      "execution_count": 20,
      "outputs": [
        {
          "output_type": "stream",
          "name": "stdout",
          "text": [
            "House Address: 123 Main St, Price: $250000\n",
            "Mansion Address: 456 Mansion Ave, Price: $1500000, Rooms: 20\n"
          ]
        }
      ]
    }
  ]
}